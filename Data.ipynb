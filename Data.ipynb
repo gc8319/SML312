{
 "cells": [
  {
   "cell_type": "code",
   "execution_count": 2,
   "id": "54bdf2c6-b703-4a7a-92be-593ef950c67e",
   "metadata": {},
   "outputs": [],
   "source": [
    "#Imports\n",
    "import numpy as np\n",
    "import pandas as pd\n",
    "import sklearn\n",
    "import matplotlib.pyplot as plt\n",
    "import seaborn as sns\n",
    "from sklearn.preprocessing import StandardScaler, MinMaxScaler\n",
    "from sklearn.linear_model import LinearRegression\n",
    "import statsmodels.api as sm"
   ]
  },
  {
   "cell_type": "code",
   "execution_count": 3,
   "id": "808979b0-581a-455e-a914-c838b8e05db6",
   "metadata": {},
   "outputs": [],
   "source": [
    "df_24 = pd.read_csv('s24.csv')\n",
    "df_23 = pd.read_csv('s23.csv')\n",
    "df_22 = pd.read_csv('s22.csv')\n",
    "df_21 = pd.read_csv('s21.csv')\n",
    "\n",
    "y_24 = [0.549, 0.549, 0.562, 0.5, 0.512, 0.253, 0.475, 0.571, 0.377, 0.531, 0.547, 0.531, 0.389, 0.605, 0.383, 0.574, 0.506, 0.549, 0.580, 0.426, 0.586, 0.469, 0.574, 0.525, 0.494, 0.512, 0.494, 0.481, 0.457, 0.438]\n",
    "y_23 = [0.519, 0.642, 0.623, 0.481, 0.512, 0.377, 0.506, 0.469, 0.364, 0.481, 0.556, 0.346, 0.451, 0.617, 0.519, 0.568, 0.537, 0.463, 0.506, 0.309, 0.556, 0.469, 0.506, 0.543, 0.488, 0.438, 0.611, 0.556, 0.549, 0.438]\n",
    "y_22 = [0.457, 0.623, 0.512, 0.481, 0.457, 0.5, 0.383, 0.568, 0.42, 0.407, 0.654, 0.401, 0.451, 0.685, 0.426, 0.531, 0.481, 0.623, 0.611, 0.37, 0.537, 0.383, 0.549, 0.556, 0.5, 0.574, 0.531, 0.42, 0.568, 0.34]\n",
    "y_21 = [0.321, 0.547, 0.321, 0.568, 0.438, 0.574, 0.512, 0.494, 0.46, 0.475, 0.586, 0.457, 0.475, 0.654, 0.414, 0.586, 0.451, 0.475, 0.568, 0.531, 0.506, 0.377, 0.488, 0.556, 0.66, 0.556, 0.617, 0.37, 0.562, 0.401]\n",
    "\n",
    "df_24['y'] = y_24\n",
    "df_23['y'] = y_23\n",
    "df_22['y'] = y_22\n",
    "df_21['y'] = y_21\n",
    "\n",
    "df_21.loc[7, 'Tm'] = \"Cleveland Guardians\""
   ]
  },
  {
   "cell_type": "code",
   "execution_count": 8,
   "id": "929c5da4-8709-480f-ac9d-a443684c7b29",
   "metadata": {},
   "outputs": [],
   "source": [
    "#Compute Difference DataFrames\n",
    "diff_24 = pd.DataFrame()\n",
    "\n",
    "for col in df_24.columns:\n",
    "  if col != 'Tm':\n",
    "    diff_24[col] = df_24[col] - df_23[col]\n",
    "\n",
    "diff_23 = pd.DataFrame()\n",
    "\n",
    "for col in df_23.columns:\n",
    "  if col != 'Tm':\n",
    "    diff_23[col] = df_23[col] - df_22[col]\n",
    "\n",
    "diff_22 = pd.DataFrame()\n",
    "\n",
    "for col in df_23.columns:\n",
    "  if col != 'Tm':\n",
    "    diff_22[col] = df_22[col] - df_21[col]\n",
    "\n",
    "final_raw_df = pd.concat([diff_24, diff_23, diff_22])\n",
    "\n",
    "y = final_raw_df['y']\n",
    "y.index = pd.RangeIndex(start=0, stop=90, step=1)\n",
    "final_raw_df = final_raw_df.drop(columns=['y'])\n",
    "#scaler = StandardScaler()\n",
    "#scaled_data = scaler.fit_transform(final_raw_df)\n",
    "#X = pd.DataFrame(scaled_data, columns=final_raw_df.columns)"
   ]
  },
  {
   "cell_type": "code",
   "execution_count": 10,
   "id": "b38154df-256f-4e1f-a544-dc1fdf341e07",
   "metadata": {},
   "outputs": [],
   "source": [
    "final_raw_df.to_csv('X.csv', index=False)\n",
    "y.to_csv('y.csv', index=False)"
   ]
  },
  {
   "cell_type": "code",
   "execution_count": null,
   "id": "bfb41569-4924-4944-94a4-83d1cad92d94",
   "metadata": {},
   "outputs": [],
   "source": []
  }
 ],
 "metadata": {
  "kernelspec": {
   "display_name": "Python [conda env:miniconda3-Renv]",
   "language": "python",
   "name": "conda-env-miniconda3-Renv-py"
  },
  "language_info": {
   "codemirror_mode": {
    "name": "ipython",
    "version": 3
   },
   "file_extension": ".py",
   "mimetype": "text/x-python",
   "name": "python",
   "nbconvert_exporter": "python",
   "pygments_lexer": "ipython3",
   "version": "3.12.6"
  }
 },
 "nbformat": 4,
 "nbformat_minor": 5
}
